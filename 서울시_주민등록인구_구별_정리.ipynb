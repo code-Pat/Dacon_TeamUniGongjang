{
 "cells": [
  {
   "cell_type": "code",
   "execution_count": 1,
   "id": "a93c22b2",
   "metadata": {},
   "outputs": [],
   "source": [
    "import numpy as np\n",
    "import pandas as pd\n",
    "import math"
   ]
  },
  {
   "cell_type": "code",
   "execution_count": 2,
   "id": "7f2b81ca",
   "metadata": {},
   "outputs": [],
   "source": [
    "df = pd.read_csv('./CSV/population/서울시_주민등록인구_구별_수정.csv', header = 0, index_col = False)"
   ]
  },
  {
   "cell_type": "code",
   "execution_count": 3,
   "id": "4098481e",
   "metadata": {},
   "outputs": [],
   "source": [
    "df_new = pd.DataFrame(columns = ['강남구', '강동구', '강북구','강서구',\n",
    "                                 '관악구','광진구','구로구','금천구','노원구',\n",
    "                                 '도봉구','동대문구','동작구','마포구','서대문구',\n",
    "                                 '서초구','성동구','성북구','송파구','양천구',\n",
    "                                 '영등포구','용산구','은평구','종로구','중구','중랑구'\n",
    "                                ])"
   ]
  },
  {
   "cell_type": "code",
   "execution_count": 4,
   "id": "6c207c31",
   "metadata": {},
   "outputs": [],
   "source": [
    "region_list = ['강남구', '강동구', '강북구','강서구',\n",
    "                            '관악구','광진구','구로구','금천구','노원구',\n",
    "                            '도봉구','동대문구','동작구','마포구','서대문구',\n",
    "                            '서초구','성동구','성북구','송파구','양천구',\n",
    "                            '영등포구','용산구','은평구','종로구','중구','중랑구'\n",
    "                                ]\n",
    "r_list = []\n",
    "n_list = []"
   ]
  },
  {
   "cell_type": "code",
   "execution_count": 5,
   "id": "7427097c",
   "metadata": {},
   "outputs": [],
   "source": [
    "for region in region_list:\n",
    "    r_list = df[df.isin(df[(df.자치구 == region)])]['인구']\n",
    "    n_list.append(r_list)"
   ]
  },
  {
   "cell_type": "code",
   "execution_count": 6,
   "id": "7d6f4f4e",
   "metadata": {},
   "outputs": [],
   "source": [
    "df_new = pd.concat(n_list, axis = 1, ignore_index = True)"
   ]
  },
  {
   "cell_type": "code",
   "execution_count": 7,
   "id": "ab54b0b5",
   "metadata": {},
   "outputs": [],
   "source": [
    "#강남 = df[(df.자치구 == '강남구')]\n",
    "#강동 = df[(df.자치구 == '강동구')]"
   ]
  },
  {
   "cell_type": "code",
   "execution_count": 8,
   "id": "88fa6f0b",
   "metadata": {},
   "outputs": [],
   "source": [
    "#강남1 = df[df.isin(강남)]['인구']\n",
    "#강동1 = df[df.isin(강동)]['인구']"
   ]
  },
  {
   "cell_type": "code",
   "execution_count": 9,
   "id": "6559fb06",
   "metadata": {},
   "outputs": [],
   "source": [
    "#Series_강남 = pd.Series(강남1, name = \"강남\")\n",
    "#Series_강동 = pd.Series(강동1, name = \"강동\")"
   ]
  },
  {
   "cell_type": "code",
   "execution_count": 10,
   "id": "d8187a09",
   "metadata": {},
   "outputs": [],
   "source": [
    "#df_new = pd.concat([Series_강남, Series_강동], axis = 1, ignore_index = True)"
   ]
  },
  {
   "cell_type": "code",
   "execution_count": 11,
   "id": "6906c00f",
   "metadata": {},
   "outputs": [],
   "source": [
    "df_new.to_csv('./CSV/yyy.csv')"
   ]
  },
  {
   "cell_type": "code",
   "execution_count": null,
   "id": "85244ba4",
   "metadata": {},
   "outputs": [],
   "source": []
  }
 ],
 "metadata": {
  "kernelspec": {
   "display_name": "Python 3",
   "language": "python",
   "name": "python3"
  },
  "language_info": {
   "codemirror_mode": {
    "name": "ipython",
    "version": 3
   },
   "file_extension": ".py",
   "mimetype": "text/x-python",
   "name": "python",
   "nbconvert_exporter": "python",
   "pygments_lexer": "ipython3",
   "version": "3.7.0"
  }
 },
 "nbformat": 4,
 "nbformat_minor": 5
}
