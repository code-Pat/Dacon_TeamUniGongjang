{
 "cells": [
  {
   "cell_type": "code",
   "execution_count": 1,
   "id": "90c00d19",
   "metadata": {},
   "outputs": [],
   "source": [
    "import pandas as pd\n",
    "import numpy as np\n",
    "import glob"
   ]
  },
  {
   "cell_type": "code",
   "execution_count": 2,
   "id": "83292a89",
   "metadata": {},
   "outputs": [],
   "source": [
    "df = pd.read_csv('./CSV/population/서울시_주민등록인구_구별_수정.csv')"
   ]
  },
  {
   "cell_type": "code",
   "execution_count": 3,
   "id": "2c31676a",
   "metadata": {},
   "outputs": [],
   "source": [
    "df['강남구_인구'] = df['강남구_인구'].str.replace(',','')\n",
    "df['강동구_인구'] = df['강동구_인구'].str.replace(',','')\n",
    "df['강북구_인구'] = df['강북구_인구'].str.replace(',','')\n",
    "df['강서구_인구'] = df['강서구_인구'].str.replace(',','')\n",
    "df['관악구_인구'] = df['관악구_인구'].str.replace(',','')\n",
    "df['광진구_인구'] = df['광진구_인구'].str.replace(',','')\n",
    "df['구로구_인구'] = df['구로구_인구'].str.replace(',','')\n",
    "df['금천구_인구'] = df['금천구_인구'].str.replace(',','')\n",
    "df['노원구_인구'] = df['노원구_인구'].str.replace(',','')\n",
    "df['도봉구_인구'] = df['도봉구_인구'].str.replace(',','')\n",
    "df['동대문구_인구'] = df['동대문구_인구'].str.replace(',','')\n",
    "df['동작구_인구'] = df['동작구_인구'].str.replace(',','')\n",
    "df['마포구_인구'] = df['마포구_인구'].str.replace(',','')\n",
    "df['서대문구_인구'] = df['서대문구_인구'].str.replace(',','')\n",
    "df['서초구_인구'] = df['서초구_인구'].str.replace(',','')\n",
    "df['성동구_인구'] = df['성동구_인구'].str.replace(',','')\n",
    "df['성북구_인구'] = df['성북구_인구'].str.replace(',','')\n",
    "df['송파구_인구'] = df['송파구_인구'].str.replace(',','')\n",
    "df['양천구_인구'] = df['양천구_인구'].str.replace(',','')\n",
    "df['영등포구_인구'] = df['영등포구_인구'].str.replace(',','')\n",
    "df['용산구_인구'] = df['용산구_인구'].str.replace(',','')\n",
    "df['은평구_인구'] = df['은평구_인구'].str.replace(',','')\n",
    "df['종로구_인구'] = df['종로구_인구'].str.replace(',','')\n",
    "df['중구_인구'] = df['중구_인구'].str.replace(',','')\n",
    "df['중랑구_인구'] = df['중랑구_인구'].str.replace(',','')"
   ]
  },
  {
   "cell_type": "code",
   "execution_count": 4,
   "id": "fcd2caac",
   "metadata": {},
   "outputs": [],
   "source": [
    "df['강남구_인구'] = df['강남구_인구'].astype(float).astype(int)\n",
    "df['강동구_인구'] = df['강동구_인구'].astype(float).astype(int)\n",
    "df['강북구_인구'] = df['강북구_인구'].astype(float).astype(int)\n",
    "df['강서구_인구'] = df['강서구_인구'].astype(float).astype(int)\n",
    "df['관악구_인구'] = df['관악구_인구'].astype(float).astype(int)\n",
    "df['광진구_인구'] = df['광진구_인구'].astype(float).astype(int)\n",
    "df['구로구_인구'] = df['구로구_인구'].astype(float).astype(int)\n",
    "df['금천구_인구'] = df['금천구_인구'].astype(float).astype(int)\n",
    "df['노원구_인구'] = df['노원구_인구'].astype(float).astype(int)\n",
    "df['도봉구_인구'] = df['도봉구_인구'].astype(float).astype(int)\n",
    "df['동대문구_인구'] = df['동대문구_인구'].astype(float).astype(int)\n",
    "df['동작구_인구'] = df['동작구_인구'].astype(float).astype(int)\n",
    "df['마포구_인구'] = df['마포구_인구'].astype(float).astype(int)\n",
    "df['서대문구_인구'] = df['서대문구_인구'].astype(float).astype(int)\n",
    "df['서초구_인구'] = df['서초구_인구'].astype(float).astype(int)\n",
    "df['성동구_인구'] = df['성동구_인구'].astype(float).astype(int)\n",
    "df['성북구_인구'] = df['성북구_인구'].astype(float).astype(int)\n",
    "df['송파구_인구'] = df['송파구_인구'].astype(float).astype(int)\n",
    "df['양천구_인구'] = df['양천구_인구'].astype(float).astype(int)\n",
    "df['영등포구_인구'] = df['영등포구_인구'].astype(float).astype(int)\n",
    "df['용산구_인구'] = df['용산구_인구'].astype(float).astype(int)\n",
    "df['은평구_인구'] = df['은평구_인구'].astype(float).astype(int)\n",
    "df['종로구_인구'] = df['종로구_인구'].astype(float).astype(int)\n",
    "df['중구_인구'] = df['중구_인구'].astype(float).astype(int)\n",
    "df['중랑구_인구'] = df['중랑구_인구'].astype(float).astype(int)"
   ]
  },
  {
   "cell_type": "code",
   "execution_count": 6,
   "id": "1dd96aea",
   "metadata": {},
   "outputs": [],
   "source": [
    "df_sub = pd.DataFrame(index = range(1, 29), columns = ['강남구', '강동구', '강북구','강서구',\n",
    "                                 '관악구','광진구','구로구','금천구','노원구',\n",
    "                                 '도봉구','동대문구','동작구','마포구','서대문구',\n",
    "                                 '서초구','성동구','성북구','송파구','양천구',\n",
    "                                 '영등포구','용산구','은평구','종로구','중구','중랑구'])\n",
    "i=0"
   ]
  },
  {
   "cell_type": "code",
   "execution_count": 7,
   "id": "fb939409",
   "metadata": {},
   "outputs": [],
   "source": [
    "while i < 25:\n",
    "    for idx in range(1, 29):\n",
    "        sub = df.iloc[idx,i+1] - df.iloc[idx-1,i+1]\n",
    "        ratio = (sub/df.iloc[idx-1, i+1])*100\n",
    "        df_sub.loc[idx, df_sub.columns[i]] = round(ratio, 2)\n",
    "    i+=1\n",
    "        #sub_list.append(sub)"
   ]
  },
  {
   "cell_type": "code",
   "execution_count": 8,
   "id": "1a2e52b6",
   "metadata": {},
   "outputs": [],
   "source": [
    "df_sub.to_csv('./CSV/population/서울시_인구_증감율.csv')"
   ]
  },
  {
   "cell_type": "code",
   "execution_count": null,
   "id": "7698c146",
   "metadata": {},
   "outputs": [],
   "source": []
  },
  {
   "cell_type": "code",
   "execution_count": null,
   "id": "5bb72ace",
   "metadata": {},
   "outputs": [],
   "source": []
  }
 ],
 "metadata": {
  "kernelspec": {
   "display_name": "Python 3",
   "language": "python",
   "name": "python3"
  },
  "language_info": {
   "codemirror_mode": {
    "name": "ipython",
    "version": 3
   },
   "file_extension": ".py",
   "mimetype": "text/x-python",
   "name": "python",
   "nbconvert_exporter": "python",
   "pygments_lexer": "ipython3",
   "version": "3.7.0"
  }
 },
 "nbformat": 4,
 "nbformat_minor": 5
}
