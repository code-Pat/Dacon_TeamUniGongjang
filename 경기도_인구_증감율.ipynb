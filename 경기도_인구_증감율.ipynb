{
 "cells": [
  {
   "cell_type": "code",
   "execution_count": 1,
   "id": "0622bf4f",
   "metadata": {},
   "outputs": [],
   "source": [
    "import pandas as pd\n",
    "import numpy as np\n",
    "import glob"
   ]
  },
  {
   "cell_type": "code",
   "execution_count": 2,
   "id": "60d53970",
   "metadata": {},
   "outputs": [],
   "source": [
    "df = pd.read_csv('./CSV/population/경기도_시별_인구_분기별.csv')"
   ]
  },
  {
   "cell_type": "code",
   "execution_count": null,
   "id": "59d5274d",
   "metadata": {},
   "outputs": [],
   "source": []
  },
  {
   "cell_type": "code",
   "execution_count": 3,
   "id": "ae49b7b8",
   "metadata": {},
   "outputs": [],
   "source": [
    "df_sub = pd.DataFrame(index = range(1,29), columns = ['합계','수원시','용인시','성남시','부천시',\n",
    "                                '화성시','안산시','안양시','평택시','시흥시',\n",
    "                                '김포시','광주시','광명시','군포시','하남시',\n",
    "                                '오산시','이천시','안성시','의왕시','양평군',\n",
    "                                '여주시','과천시','고양시','남양주시','파주시',\n",
    "                                '의정부시','양주시','구리시','포천시','동두천시',\n",
    "                                '가평군','연천군'])"
   ]
  },
  {
   "cell_type": "code",
   "execution_count": 4,
   "id": "ebf4fa47",
   "metadata": {},
   "outputs": [],
   "source": [
    "i = 0\n",
    "while i < 32:\n",
    "    for idx in range(1,29):\n",
    "        sub = df.iloc[idx,i+1] - df.iloc[idx-1, i+1]\n",
    "        ratio = (sub/df.iloc[idx-1, i+1])*100\n",
    "        df_sub.loc[idx, df_sub.columns[i]] = round(ratio, 2)\n",
    "    i += 1"
   ]
  },
  {
   "cell_type": "code",
   "execution_count": 5,
   "id": "50f98837",
   "metadata": {},
   "outputs": [],
   "source": [
    "df_sub.to_csv('./CSV/population/경기도_인구_증감율.csv')"
   ]
  }
 ],
 "metadata": {
  "kernelspec": {
   "display_name": "Python 3",
   "language": "python",
   "name": "python3"
  },
  "language_info": {
   "codemirror_mode": {
    "name": "ipython",
    "version": 3
   },
   "file_extension": ".py",
   "mimetype": "text/x-python",
   "name": "python",
   "nbconvert_exporter": "python",
   "pygments_lexer": "ipython3",
   "version": "3.7.0"
  }
 },
 "nbformat": 4,
 "nbformat_minor": 5
}
