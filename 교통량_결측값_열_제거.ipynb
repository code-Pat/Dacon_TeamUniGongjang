{
 "cells": [
  {
   "cell_type": "code",
   "execution_count": 1,
   "id": "aa41f4c5",
   "metadata": {},
   "outputs": [],
   "source": [
    "import pandas as pd\n",
    "import numpy as np\n",
    "import glob"
   ]
  },
  {
   "cell_type": "code",
   "execution_count": 2,
   "id": "e1cc9351",
   "metadata": {},
   "outputs": [],
   "source": [
    "df = pd.read_csv('./CSV/2021/2021_6월_서울시_교통량_조사자료.csv', header = 0)"
   ]
  },
  {
   "cell_type": "code",
   "execution_count": 3,
   "id": "50ca98d0",
   "metadata": {},
   "outputs": [],
   "source": [
    "#df = df.dropna(how='all')"
   ]
  },
  {
   "cell_type": "code",
   "execution_count": 4,
   "id": "0583f967",
   "metadata": {},
   "outputs": [],
   "source": [
    "#df_sample = df.loc[:, ['6시','7시','8시','9시','10시','11시','12시','13시','14시','15시','16시','17시','18시','19시','20시','21시']]"
   ]
  },
  {
   "cell_type": "code",
   "execution_count": 5,
   "id": "97aa93e8",
   "metadata": {},
   "outputs": [],
   "source": [
    "#df_sample"
   ]
  },
  {
   "cell_type": "code",
   "execution_count": 6,
   "id": "da6a8caa",
   "metadata": {},
   "outputs": [],
   "source": [
    "df = df.dropna(subset=['6시','7시','8시','9시','10시','11시',\n",
    "                       '12시','13시','14시','15시','16시','17시',\n",
    "                       '18시','19시','20시','21시'], \n",
    "               how='all')"
   ]
  },
  {
   "cell_type": "code",
   "execution_count": 7,
   "id": "16243e76",
   "metadata": {},
   "outputs": [],
   "source": [
    "df = df.loc[:,['일자','요일','지점번호','방향','6시','7시','8시','9시','10시','11시','12시','13시','14시','15시','16시','17시','18시','19시','20시','21시'] ]"
   ]
  },
  {
   "cell_type": "code",
   "execution_count": 8,
   "id": "f5d3010b",
   "metadata": {},
   "outputs": [],
   "source": [
    "df.to_csv('./CSV/2021/2021_6_traffic.csv')"
   ]
  },
  {
   "cell_type": "code",
   "execution_count": null,
   "id": "2166235a",
   "metadata": {},
   "outputs": [],
   "source": []
  }
 ],
 "metadata": {
  "kernelspec": {
   "display_name": "Python 3",
   "language": "python",
   "name": "python3"
  },
  "language_info": {
   "codemirror_mode": {
    "name": "ipython",
    "version": 3
   },
   "file_extension": ".py",
   "mimetype": "text/x-python",
   "name": "python",
   "nbconvert_exporter": "python",
   "pygments_lexer": "ipython3",
   "version": "3.7.0"
  }
 },
 "nbformat": 4,
 "nbformat_minor": 5
}
