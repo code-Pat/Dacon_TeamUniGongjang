{
 "cells": [
  {
   "cell_type": "code",
   "execution_count": 1,
   "id": "a55914e9",
   "metadata": {},
   "outputs": [],
   "source": [
    "import pandas as pd\n",
    "import numpy as np\n",
    "import glob"
   ]
  },
  {
   "cell_type": "code",
   "execution_count": 2,
   "id": "1b017bc4",
   "metadata": {},
   "outputs": [],
   "source": [
    "df = pd.read_csv('./CSV/population/경기도_시별_인구_수정2.csv', header = 0)"
   ]
  },
  {
   "cell_type": "code",
   "execution_count": 3,
   "id": "66f0513b",
   "metadata": {},
   "outputs": [],
   "source": [
    "df['합계'] = df['합계'].astype(int)\n",
    "df['수원시'] = df['수원시'].astype(int)\n",
    "df['용인시'] = df['용인시'].astype(int)\n",
    "df['성남시'] = df['성남시'].astype(int)\n",
    "df['부천시'] = df['부천시'].astype(int)\n",
    "df['화성시'] = df['화성시'].astype(int)\n",
    "df['안산시'] = df['안산시'].astype(int)\n",
    "df['안양시'] = df['안양시'].astype(int)\n",
    "df['평택시'] = df['평택시'].astype(int)\n",
    "df['시흥시'] = df['시흥시'].astype(int)\n",
    "df['김포시'] = df['김포시'].astype(int)\n",
    "df['광주시'] = df['광주시'].astype(int)\n",
    "df['광명시'] = df['광명시'].astype(int)\n",
    "df['군포시'] = df['군포시'].astype(int)\n",
    "df['하남시'] = df['하남시'].astype(int)\n",
    "df['오산시'] = df['오산시'].astype(int)\n",
    "df['이천시'] = df['이천시'].astype(int)\n",
    "df['안성시'] = df['안성시'].astype(int)\n",
    "df['의왕시'] = df['의왕시'].astype(int)\n",
    "df['양평군'] = df['양평군'].astype(int)\n",
    "df['여주시'] = df['여주시'].astype(int)\n",
    "df['과천시'] = df['과천시'].astype(int)\n",
    "df['고양시'] = df['고양시'].astype(int)\n",
    "df['남양주시'] = df['남양주시'].astype(int)\n",
    "df['파주시'] = df['파주시'].astype(int)\n",
    "df['의정부시'] = df['의정부시'].astype(int)\n",
    "df['양주시'] = df['양주시'].astype(int)\n",
    "df['구리시'] = df['구리시'].astype(int)\n",
    "df['포천시'] = df['포천시'].astype(int)\n",
    "df['동두천시'] = df['동두천시'].astype(int)\n",
    "df['가평군'] = df['가평군'].astype(int)\n",
    "df['연천군'] = df['연천군'].astype(int)"
   ]
  },
  {
   "cell_type": "code",
   "execution_count": 4,
   "id": "72d2cc32",
   "metadata": {},
   "outputs": [],
   "source": [
    "df_sub = pd.DataFrame(index = range(0,87),\n",
    "                     columns = ['합계','수원시','용인시','성남시','부천시',\n",
    "                                '화성시','안산시','안양시','평택시','시흥시',\n",
    "                                '김포시','광주시','광명시','군포시','하남시',\n",
    "                                '오산시','이천시','안성시','의왕시','양평군',\n",
    "                                '여주시','과천시','고양시','남양주시','파주시',\n",
    "                                '의정부시','양주시','구리시','포천시','동두천시',\n",
    "                                '가평군','연천군'])\n",
    "#'2014.1/4','2014.2/4','2014.3/4',\n",
    "#'2014.4/4','2015.1/4','2015.2/4',\n",
    "#'2015.3/4','2015.4/4','2016.1/4',\n",
    "#'2016.2/4','2064.3/4','2016.4/4',\n",
    "#'2017.1/4','2017.2/4','2017.3/4',\n",
    "#'2017.4/4','2018.1/4','2018.2/4',\n",
    "#'2018.3/4','2018.4/4','2019.1/4',\n",
    "#'2019.2/4','2019.3/4','2019.4/4',\n",
    "#'2020.1/4','2020.2/4','2020.3/4',\n",
    "#'2020.4/4','2021.1/4'"
   ]
  },
  {
   "cell_type": "code",
   "execution_count": 5,
   "id": "367f7416",
   "metadata": {},
   "outputs": [],
   "source": [
    "idx = 1\n",
    "df.iloc[88,1]\n",
    "period_list = []\n",
    "frames = []\n",
    "#period_list2 = []"
   ]
  },
  {
   "cell_type": "code",
   "execution_count": 6,
   "id": "6d17dd24",
   "metadata": {},
   "outputs": [],
   "source": [
    "while idx < 33:\n",
    "    for i in range(0,87,3):\n",
    "        period = df.iloc[i,idx]+df.iloc[i+1,idx]+df.iloc[i+2,idx]\n",
    "        period_list.append(period)\n",
    "        #print(period_list)\n",
    "    narray = np.array(period_list)\n",
    "    #period_list2 = pd.DataFrame.from_records(narray)\n",
    "    period_list2 = pd.Series(period_list)\n",
    "    frames += [period_list2]\n",
    "    period_list = []\n",
    "    idx += 1\n",
    "result = pd.concat(frames, axis = 1, ignore_index = True)"
   ]
  },
  {
   "cell_type": "code",
   "execution_count": 7,
   "id": "cb9ec5a9",
   "metadata": {},
   "outputs": [],
   "source": [
    "columns_cities = ['합계','수원시','용인시','성남시','부천시',\n",
    "                                '화성시','안산시','안양시','평택시','시흥시',\n",
    "                                '김포시','광주시','광명시','군포시','하남시',\n",
    "                                '오산시','이천시','안성시','의왕시','양평군',\n",
    "                                '여주시','과천시','고양시','남양주시','파주시',\n",
    "                                '의정부시','양주시','구리시','포천시','동두천시',\n",
    "                                '가평군','연천군']\n",
    "index_list = ['2014.1/4','2014.2/4','2014.3/4',\n",
    "'2014.4/4','2015.1/4','2015.2/4',\n",
    "'2015.3/4','2015.4/4','2016.1/4',\n",
    "'2016.2/4','2016.3/4','2016.4/4',\n",
    "'2017.1/4','2017.2/4','2017.3/4',\n",
    "'2017.4/4','2018.1/4','2018.2/4',\n",
    "'2018.3/4','2018.4/4','2019.1/4',\n",
    "'2019.2/4','2019.3/4','2019.4/4',\n",
    "'2020.1/4','2020.2/4','2020.3/4',\n",
    "'2020.4/4','2021.1/4']"
   ]
  },
  {
   "cell_type": "code",
   "execution_count": 8,
   "id": "c79ac576",
   "metadata": {},
   "outputs": [],
   "source": [
    "result.columns = columns_cities\n",
    "result['분기'] = index_list\n",
    "#result.set_index('분기', inplace = True)"
   ]
  },
  {
   "cell_type": "code",
   "execution_count": 9,
   "id": "3bef0466",
   "metadata": {},
   "outputs": [],
   "source": [
    "result.to_csv('./CSV/population/경기도_시별_인구_분기별.csv')"
   ]
  },
  {
   "cell_type": "code",
   "execution_count": null,
   "id": "cd375770",
   "metadata": {},
   "outputs": [],
   "source": []
  },
  {
   "cell_type": "code",
   "execution_count": null,
   "id": "dbb2d529",
   "metadata": {},
   "outputs": [],
   "source": []
  }
 ],
 "metadata": {
  "kernelspec": {
   "display_name": "Python 3",
   "language": "python",
   "name": "python3"
  },
  "language_info": {
   "codemirror_mode": {
    "name": "ipython",
    "version": 3
   },
   "file_extension": ".py",
   "mimetype": "text/x-python",
   "name": "python",
   "nbconvert_exporter": "python",
   "pygments_lexer": "ipython3",
   "version": "3.7.0"
  }
 },
 "nbformat": 4,
 "nbformat_minor": 5
}
