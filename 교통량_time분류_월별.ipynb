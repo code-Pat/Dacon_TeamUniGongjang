{
 "cells": [
  {
   "cell_type": "code",
   "execution_count": 1,
   "id": "ae5983ee",
   "metadata": {},
   "outputs": [],
   "source": [
    "import pandas as pd\n",
    "import numpy as np"
   ]
  },
  {
   "cell_type": "code",
   "execution_count": 2,
   "id": "d079973c",
   "metadata": {},
   "outputs": [],
   "source": [
    "column_name = ['일자','요일','지점명','지점번호','구분','방향','0시','1시','2시','3시',\n",
    "               '4시','5시','6시','7시','8시','9시','10시','11시','12시','13시','14시',\n",
    "               '15시','16시','17시','18시','19시','20시','21시','22시','23시']"
   ]
  },
  {
   "cell_type": "code",
   "execution_count": 3,
   "id": "a128fb90",
   "metadata": {},
   "outputs": [],
   "source": [
    "df = pd.read_csv('./CSV/2018/2018_5월_서울시_교통량_조사자료.csv', header = None, thousands = ',')\n",
    "df.columns = column_name\n",
    "df = df.drop([0])\n",
    "df = df.dropna(axis=0)"
   ]
  },
  {
   "cell_type": "code",
   "execution_count": 4,
   "id": "3178d1bd",
   "metadata": {},
   "outputs": [],
   "source": [
    "df['0시'] = df['0시'].str.replace(',','')\n",
    "df['1시'] = df['1시'].str.replace(',','')\n",
    "df['2시'] = df['2시'].str.replace(',','')\n",
    "df['3시'] = df['3시'].str.replace(',','')\n",
    "df['4시'] = df['4시'].str.replace(',','')\n",
    "df['5시'] = df['5시'].str.replace(',','')\n",
    "df['6시'] = df['6시'].str.replace(',','')\n",
    "df['7시'] = df['7시'].str.replace(',','')\n",
    "df['8시'] = df['8시'].str.replace(',','')\n",
    "df['9시'] = df['9시'].str.replace(',','')\n",
    "df['10시'] = df['10시'].str.replace(',','')\n",
    "df['11시'] = df['11시'].str.replace(',','')\n",
    "df['12시'] = df['12시'].str.replace(',','')\n",
    "df['13시'] = df['13시'].str.replace(',','')\n",
    "df['14시'] = df['14시'].str.replace(',','')\n",
    "df['15시'] = df['15시'].str.replace(',','')\n",
    "df['16시'] = df['16시'].str.replace(',','')\n",
    "df['17시'] = df['17시'].str.replace(',','')\n",
    "df['18시'] = df['18시'].str.replace(',','')\n",
    "df['19시'] = df['19시'].str.replace(',','')\n",
    "df['20시'] = df['20시'].str.replace(',','')\n",
    "df['21시'] = df['21시'].str.replace(',','')\n",
    "df['22시'] = df['22시'].str.replace(',','')\n",
    "df['23시'] = df['23시'].str.replace(',','')"
   ]
  },
  {
   "cell_type": "code",
   "execution_count": 5,
   "id": "f294a01e",
   "metadata": {},
   "outputs": [],
   "source": [
    "df['0시'] = df['0시'].astype(float)\n",
    "df['1시'] = df['1시'].astype(float)\n",
    "df['2시'] = df['2시'].astype(float)\n",
    "df['3시'] = df['3시'].astype(float)\n",
    "df['4시'] = df['4시'].astype(float)\n",
    "df['5시'] = df['5시'].astype(float)\n",
    "df['6시'] = df['6시'].astype(float)\n",
    "df['7시'] = df['7시'].astype(float)\n",
    "df['8시'] = df['8시'].astype(float)\n",
    "df['9시'] = df['9시'].astype(float)\n",
    "df['10시'] = df['10시'].astype(float)\n",
    "df['11시'] = df['11시'].astype(float)\n",
    "df['12시'] = df['12시'].astype(float)\n",
    "df['13시'] = df['13시'].astype(float)\n",
    "df['14시'] = df['14시'].astype(float)\n",
    "df['15시'] = df['15시'].astype(float)\n",
    "df['16시'] = df['16시'].astype(float)\n",
    "df['17시'] = df['17시'].astype(float)\n",
    "df['18시'] = df['18시'].astype(float)\n",
    "df['19시'] = df['19시'].astype(float)\n",
    "df['20시'] = df['20시'].astype(float)\n",
    "df['21시'] = df['21시'].astype(float)\n",
    "df['22시'] = df['22시'].astype(float)\n",
    "df['23시'] = df['23시'].astype(float)"
   ]
  },
  {
   "cell_type": "code",
   "execution_count": 6,
   "id": "540dd5bc",
   "metadata": {},
   "outputs": [],
   "source": [
    "time1 = ['0시','1시','2시']\n",
    "time2 = ['3시','4시','5시']\n",
    "time3 = ['6시','7시','8시']\n",
    "time4 = ['9시','10시','11시']\n",
    "time5 = ['12시','13시','14시']\n",
    "time6 = ['15시','16시','17시']\n",
    "time7 = ['18시','19시','20시']\n",
    "time8 = ['21시','22시','23시']\n",
    "time_total = ['0시','1시','2시', '3시','4시','5시', \n",
    "              '6시','7시','8시', '9시','10시','11시', \n",
    "             '12시','13시','14시', '15시','16시','17시',\n",
    "             '18시','19시','20시', '21시','22시','23시']"
   ]
  },
  {
   "cell_type": "code",
   "execution_count": 7,
   "id": "44a3634e",
   "metadata": {},
   "outputs": [],
   "source": [
    "df['time_1'] = df[time1].sum(axis = 1)\n",
    "df['time_2'] = df[time2].sum(axis = 1)\n",
    "df['time_3'] = df[time3].sum(axis = 1)\n",
    "df['time_4'] = df[time4].sum(axis = 1)\n",
    "df['time_5'] = df[time5].sum(axis = 1)\n",
    "df['time_6'] = df[time6].sum(axis = 1)\n",
    "df['time_7'] = df[time7].sum(axis = 1)\n",
    "df['time_8'] = df[time8].sum(axis = 1)"
   ]
  },
  {
   "cell_type": "code",
   "execution_count": 8,
   "id": "b92ae93d",
   "metadata": {},
   "outputs": [],
   "source": [
    "df['total_day'] = df[time_total].sum(axis = 1)"
   ]
  },
  {
   "cell_type": "code",
   "execution_count": null,
   "id": "75bc8d5b",
   "metadata": {},
   "outputs": [],
   "source": [
    "#df.to_csv('./CSV/2016_1월_수정본.csv')"
   ]
  }
 ],
 "metadata": {
  "kernelspec": {
   "display_name": "Python 3",
   "language": "python",
   "name": "python3"
  },
  "language_info": {
   "codemirror_mode": {
    "name": "ipython",
    "version": 3
   },
   "file_extension": ".py",
   "mimetype": "text/x-python",
   "name": "python",
   "nbconvert_exporter": "python",
   "pygments_lexer": "ipython3",
   "version": "3.7.0"
  }
 },
 "nbformat": 4,
 "nbformat_minor": 5
}
