{
 "cells": [
  {
   "cell_type": "code",
   "execution_count": 1,
   "id": "3d98fa54",
   "metadata": {},
   "outputs": [],
   "source": [
    "import matplotlib as mtl\n",
    "import matplotlib.pyplot as plt\n",
    "import numpy as np\n",
    "import pandas as pd\n",
    "import math"
   ]
  },
  {
   "cell_type": "code",
   "execution_count": 2,
   "id": "ed9757ea",
   "metadata": {},
   "outputs": [],
   "source": [
    "%matplotlib inline"
   ]
  },
  {
   "cell_type": "code",
   "execution_count": 3,
   "id": "f3cc219c",
   "metadata": {},
   "outputs": [],
   "source": [
    "df = pd.read_csv('./CSV/A섹션_total/A-01_IN.csv', header = 0)\n",
    "dfs = []"
   ]
  },
  {
   "cell_type": "code",
   "execution_count": 4,
   "id": "204bc1ac",
   "metadata": {},
   "outputs": [],
   "source": [
    "df = df[df['요일'] == '월']\n",
    "df = df.loc[:, ['일자', 'total_day']]\n",
    "df_weekday = df"
   ]
  },
  {
   "cell_type": "code",
   "execution_count": 5,
   "id": "65a5644c",
   "metadata": {},
   "outputs": [],
   "source": [
    "df_weekday['일자'] = df_weekday['일자'].astype(int)"
   ]
  },
  {
   "cell_type": "code",
   "execution_count": 6,
   "id": "aa0e19ae",
   "metadata": {},
   "outputs": [],
   "source": [
    "P1 = df_weekday[(df_weekday.일자 >= 20160101) & (df_weekday.일자 <= 20160331)]\n",
    "P2 = df_weekday[(df_weekday.일자 >= 20160401) & (df_weekday.일자 <= 20160630)]\n",
    "P3 = df_weekday[(df_weekday.일자 >= 20160701) & (df_weekday.일자 <= 20160930)]\n",
    "P4 = df_weekday[(df_weekday.일자 >= 20161001) & (df_weekday.일자 <= 20161231)]\n",
    "\n",
    "P5 = df_weekday[(df_weekday.일자 >= 20170101) & (df_weekday.일자 <= 20170331)]\n",
    "P6 = df_weekday[(df_weekday.일자 >= 20170401) & (df_weekday.일자 <= 20170630)]\n",
    "P7 = df_weekday[(df_weekday.일자 >= 20170701) & (df_weekday.일자 <= 20170930)]\n",
    "P8 = df_weekday[(df_weekday.일자 >= 20171001) & (df_weekday.일자 <= 20171231)]\n",
    "\n",
    "P9 = df_weekday[(df_weekday.일자 >= 20180101) & (df_weekday.일자 <= 20180331)]\n",
    "P10 = df_weekday[(df_weekday.일자 >= 20180401) & (df_weekday.일자 <= 20180630)]\n",
    "P11 = df_weekday[(df_weekday.일자 >= 20180701) & (df_weekday.일자 <= 20180930)]\n",
    "P12 = df_weekday[(df_weekday.일자 >= 20181001) & (df_weekday.일자 <= 20181231)]\n",
    "\n",
    "P13 = df_weekday[(df_weekday.일자 >= 20190101) & (df_weekday.일자 <= 20190331)]\n",
    "P14 = df_weekday[(df_weekday.일자 >= 20190401) & (df_weekday.일자 <= 20190630)]\n",
    "P15 = df_weekday[(df_weekday.일자 >= 20190701) & (df_weekday.일자 <= 20190930)]\n",
    "P16 = df_weekday[(df_weekday.일자 >= 20191001) & (df_weekday.일자 <= 20191231)]\n",
    "\n",
    "P17 = df_weekday[(df_weekday.일자 >= 20200101) & (df_weekday.일자 <= 20200331)]\n",
    "P18 = df_weekday[(df_weekday.일자 >= 20200401) & (df_weekday.일자 <= 20200630)]\n",
    "P19 = df_weekday[(df_weekday.일자 >= 20200701) & (df_weekday.일자 <= 20200930)]\n",
    "P20 = df_weekday[(df_weekday.일자 >= 20201001) & (df_weekday.일자 <= 20201231)]\n",
    "\n",
    "P21 = df_weekday[(df_weekday.일자 >= 20210101) & (df_weekday.일자 <= 20210331)]\n",
    "P22 = df_weekday[(df_weekday.일자 >= 20210401) & (df_weekday.일자 <= 20210630)]\n",
    "P23 = df_weekday[(df_weekday.일자 >= 20210701) & (df_weekday.일자 <= 20210930)]\n",
    "P24 = df_weekday[(df_weekday.일자 >= 20211001) & (df_weekday.일자 <= 20211231)]\n",
    "\n"
   ]
  },
  {
   "cell_type": "code",
   "execution_count": 8,
   "id": "7b86d55e",
   "metadata": {},
   "outputs": [],
   "source": [
    "Period_list = [P1, P2, P3, P4, P5, P6, P7, P8, P9, P10, P11, P12,\n",
    "              P13, P14, P15, P16, P17, P18, P19, P20, P21, P22]\n",
    "mean_list = []"
   ]
  },
  {
   "cell_type": "code",
   "execution_count": 9,
   "id": "470d2927",
   "metadata": {},
   "outputs": [],
   "source": [
    "for period in Period_list:\n",
    "    P = math.trunc(period['total_day'].mean())\n",
    "    mean_list.append(P)"
   ]
  },
  {
   "cell_type": "code",
   "execution_count": 10,
   "id": "bf87444e",
   "metadata": {},
   "outputs": [
    {
     "data": {
      "text/plain": [
       "[39771,\n",
       " 39643,\n",
       " 37916,\n",
       " 38405,\n",
       " 36092,\n",
       " 37663,\n",
       " 35999,\n",
       " 33113,\n",
       " 34362,\n",
       " 36500,\n",
       " 35587,\n",
       " 37449,\n",
       " 34225,\n",
       " 36142,\n",
       " 36301,\n",
       " 37087,\n",
       " 31623,\n",
       " 33403,\n",
       " 32566,\n",
       " 33398,\n",
       " 30338,\n",
       " 32685]"
      ]
     },
     "execution_count": 10,
     "metadata": {},
     "output_type": "execute_result"
    }
   ],
   "source": [
    "mean_list"
   ]
  },
  {
   "cell_type": "code",
   "execution_count": null,
   "id": "99935014",
   "metadata": {},
   "outputs": [],
   "source": []
  }
 ],
 "metadata": {
  "kernelspec": {
   "display_name": "Python 3",
   "language": "python",
   "name": "python3"
  },
  "language_info": {
   "codemirror_mode": {
    "name": "ipython",
    "version": 3
   },
   "file_extension": ".py",
   "mimetype": "text/x-python",
   "name": "python",
   "nbconvert_exporter": "python",
   "pygments_lexer": "ipython3",
   "version": "3.7.0"
  }
 },
 "nbformat": 4,
 "nbformat_minor": 5
}
