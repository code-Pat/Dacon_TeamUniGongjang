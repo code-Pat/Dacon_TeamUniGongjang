{
 "cells": [
  {
   "cell_type": "code",
   "execution_count": 1,
   "id": "b2c884d9",
   "metadata": {},
   "outputs": [],
   "source": [
    "import pandas as pd\n",
    "import numpy as np\n",
    "import glob"
   ]
  },
  {
   "cell_type": "code",
   "execution_count": 2,
   "id": "e8f9bbde",
   "metadata": {},
   "outputs": [],
   "source": [
    "path = r'./CSV/totals'\n",
    "filenames = glob.glob(path + \"/*.csv\")\n",
    "dfs = []\n",
    "point = 'F-09'"
   ]
  },
  {
   "cell_type": "code",
   "execution_count": 3,
   "id": "cc9ea00a",
   "metadata": {},
   "outputs": [],
   "source": [
    "for filename in filenames:\n",
    "    df = pd.read_csv(filename, \n",
    "                     header = 0)\n",
    "    df = df[df['지점번호'] == point]\n",
    "    df = df.loc[:, ['일자', '요일', '지점번호', '구분', '방향', \n",
    "                    'time_1', 'time_2', 'time_3', 'time_4', \n",
    "                    'time_5', 'time_6', 'time_7', 'time_8', \n",
    "                    'total_day']]\n",
    "    dfs.append(df)"
   ]
  },
  {
   "cell_type": "code",
   "execution_count": 4,
   "id": "a52656c8",
   "metadata": {},
   "outputs": [],
   "source": [
    "all_tables = pd.concat(dfs, axis = 0, ignore_index = True)"
   ]
  },
  {
   "cell_type": "code",
   "execution_count": 5,
   "id": "56a6d727",
   "metadata": {},
   "outputs": [],
   "source": [
    "all_tables = all_tables.sort_values(by = '일자', ascending = True)"
   ]
  },
  {
   "cell_type": "code",
   "execution_count": 6,
   "id": "3d4cd6a1",
   "metadata": {},
   "outputs": [],
   "source": [
    "all_table_in = all_tables[all_tables['구분'] == '유입']"
   ]
  },
  {
   "cell_type": "code",
   "execution_count": 7,
   "id": "c884bd43",
   "metadata": {},
   "outputs": [],
   "source": [
    "all_table_out = all_tables[all_tables['구분'] == '유출']"
   ]
  },
  {
   "cell_type": "code",
   "execution_count": 8,
   "id": "93f96456",
   "metadata": {},
   "outputs": [],
   "source": [
    "all_table_in = all_table_in.sort_values(by = '일자', ascending = True)"
   ]
  },
  {
   "cell_type": "code",
   "execution_count": 9,
   "id": "1d0c1c68",
   "metadata": {},
   "outputs": [],
   "source": [
    "all_table_out = all_table_out.sort_values(by = '일자', ascending = True)"
   ]
  },
  {
   "cell_type": "code",
   "execution_count": 10,
   "id": "07179447",
   "metadata": {},
   "outputs": [],
   "source": [
    "all_tables.to_csv('./CSV/' + point+'.csv')\n",
    "all_table_in.to_csv('./CSV/'+point+'_IN.csv')\n",
    "all_table_out.to_csv('./CSV/'+point+'_OUT.csv')"
   ]
  },
  {
   "cell_type": "code",
   "execution_count": null,
   "id": "e9ee7055",
   "metadata": {},
   "outputs": [],
   "source": []
  }
 ],
 "metadata": {
  "kernelspec": {
   "display_name": "Python 3",
   "language": "python",
   "name": "python3"
  },
  "language_info": {
   "codemirror_mode": {
    "name": "ipython",
    "version": 3
   },
   "file_extension": ".py",
   "mimetype": "text/x-python",
   "name": "python",
   "nbconvert_exporter": "python",
   "pygments_lexer": "ipython3",
   "version": "3.7.0"
  }
 },
 "nbformat": 4,
 "nbformat_minor": 5
}
