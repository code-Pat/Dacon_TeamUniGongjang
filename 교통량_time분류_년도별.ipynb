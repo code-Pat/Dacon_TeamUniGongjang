{
 "cells": [
  {
   "cell_type": "code",
   "execution_count": 1,
   "id": "ffae5538",
   "metadata": {},
   "outputs": [],
   "source": [
    "import pandas as pd\n",
    "import numpy as np\n",
    "import glob"
   ]
  },
  {
   "cell_type": "code",
   "execution_count": null,
   "id": "9feec30b",
   "metadata": {},
   "outputs": [],
   "source": [
    "# 2015-2021 통일된 헤더를 갖기 위해서 column_name을 새로 지정해줌"
   ]
  },
  {
   "cell_type": "code",
   "execution_count": 2,
   "id": "a76bab48",
   "metadata": {},
   "outputs": [],
   "source": [
    "path = r'./CSV/2021'\n",
    "filenames = glob.glob(path + \"/*.csv\")\n",
    "dfs = []\n",
    "column_name = ['일자','요일','지점명','지점번호','구분','방향',\n",
    "               '0시','1시','2시','3시','4시','5시','6시','7시',\n",
    "               '8시','9시','10시','11시','12시','13시','14시',\n",
    "               '15시','16시','17시','18시','19시','20시','21시',\n",
    "               '22시','23시']"
   ]
  },
  {
   "cell_type": "code",
   "execution_count": null,
   "id": "a41b624e",
   "metadata": {},
   "outputs": [],
   "source": [
    "# 전처리과정을 돌리는 for loop : \n",
    "#해당 폴더 안의 모든 csv파일을 가져오고, column_name을 위에 지정한대로 받은 후, \n",
    "# 원래 있던 헤더를 없애고, 결측값이 들어 있는 모든 행을 삭제, 후에 한 데이터 프레임 안에 모은다."
   ]
  },
  {
   "cell_type": "code",
   "execution_count": 3,
   "id": "e4a68540",
   "metadata": {},
   "outputs": [],
   "source": [
    "for filename in filenames:\n",
    "    df = pd.read_csv(filename, \n",
    "                     header = None, thousands = ',')\n",
    "    \n",
    "    df.columns = column_name\n",
    "    df = df.drop([0])\n",
    "    df = df.dropna(axis=0)\n",
    "    dfs.append(df)"
   ]
  },
  {
   "cell_type": "code",
   "execution_count": 4,
   "id": "a52f4f26",
   "metadata": {},
   "outputs": [],
   "source": [
    "all_tables = pd.concat(dfs, axis = 0, ignore_index = True)"
   ]
  },
  {
   "cell_type": "code",
   "execution_count": null,
   "id": "a3ad9e92",
   "metadata": {},
   "outputs": [],
   "source": [
    "# 파일 중에 천의 자릿수 (,)로 구분되어 있는 파일들이 있기 때문에 콤마(,)를 제거해준다."
   ]
  },
  {
   "cell_type": "code",
   "execution_count": 5,
   "id": "b0b33892",
   "metadata": {},
   "outputs": [],
   "source": [
    "all_tables['0시'] = all_tables['0시'].str.replace(',','')\n",
    "all_tables['1시'] = all_tables['1시'].str.replace(',','')\n",
    "all_tables['2시'] = all_tables['2시'].str.replace(',','')\n",
    "all_tables['3시'] = all_tables['3시'].str.replace(',','')\n",
    "all_tables['4시'] = all_tables['4시'].str.replace(',','')\n",
    "all_tables['5시'] = all_tables['5시'].str.replace(',','')\n",
    "all_tables['6시'] = all_tables['6시'].str.replace(',','')\n",
    "all_tables['7시'] = all_tables['7시'].str.replace(',','')\n",
    "all_tables['8시'] = all_tables['8시'].str.replace(',','')\n",
    "all_tables['9시'] = all_tables['9시'].str.replace(',','')\n",
    "all_tables['10시'] = all_tables['10시'].str.replace(',','')\n",
    "all_tables['11시'] = all_tables['11시'].str.replace(',','')\n",
    "all_tables['12시'] = all_tables['12시'].str.replace(',','')\n",
    "all_tables['13시'] = all_tables['13시'].str.replace(',','')\n",
    "all_tables['14시'] = all_tables['14시'].str.replace(',','')\n",
    "all_tables['15시'] = all_tables['15시'].str.replace(',','')\n",
    "all_tables['16시'] = all_tables['16시'].str.replace(',','')\n",
    "all_tables['17시'] = all_tables['17시'].str.replace(',','')\n",
    "all_tables['18시'] = all_tables['18시'].str.replace(',','')\n",
    "all_tables['19시'] = all_tables['19시'].str.replace(',','')\n",
    "all_tables['20시'] = all_tables['20시'].str.replace(',','')\n",
    "all_tables['21시'] = all_tables['21시'].str.replace(',','')\n",
    "all_tables['22시'] = all_tables['22시'].str.replace(',','')\n",
    "all_tables['23시'] = all_tables['23시'].str.replace(',','')"
   ]
  },
  {
   "cell_type": "code",
   "execution_count": null,
   "id": "a48458d4",
   "metadata": {},
   "outputs": [],
   "source": [
    "# 원래 파일에 숫자가 string 으로 되어있는 경우가 있어서 float으로 변환해준 후 int로 다시 넘겨준다."
   ]
  },
  {
   "cell_type": "code",
   "execution_count": 6,
   "id": "410407ca",
   "metadata": {},
   "outputs": [],
   "source": [
    "all_tables['0시'] = all_tables['0시'].astype(float).astype(int)\n",
    "all_tables['1시'] = all_tables['1시'].astype(float).astype(int)\n",
    "all_tables['2시'] = all_tables['2시'].astype(float).astype(int)\n",
    "all_tables['3시'] = all_tables['3시'].astype(float).astype(int)\n",
    "all_tables['4시'] = all_tables['4시'].astype(float).astype(int)\n",
    "all_tables['5시'] = all_tables['5시'].astype(float).astype(int)\n",
    "all_tables['6시'] = all_tables['6시'].astype(float).astype(int)\n",
    "all_tables['7시'] = all_tables['7시'].astype(float).astype(int)\n",
    "all_tables['8시'] = all_tables['8시'].astype(float).astype(int)\n",
    "all_tables['9시'] = all_tables['9시'].astype(float).astype(int)\n",
    "all_tables['10시'] = all_tables['10시'].astype(float).astype(int)\n",
    "all_tables['11시'] = all_tables['11시'].astype(float).astype(int)\n",
    "all_tables['12시'] = all_tables['12시'].astype(float).astype(int)\n",
    "all_tables['13시'] = all_tables['13시'].astype(float).astype(int)\n",
    "all_tables['14시'] = all_tables['14시'].astype(float).astype(int)\n",
    "all_tables['15시'] = all_tables['15시'].astype(float).astype(int)\n",
    "all_tables['16시'] = all_tables['16시'].astype(float).astype(int)\n",
    "all_tables['17시'] = all_tables['17시'].astype(float).astype(int)\n",
    "all_tables['18시'] = all_tables['18시'].astype(float).astype(int)\n",
    "all_tables['19시'] = all_tables['19시'].astype(float).astype(int)\n",
    "all_tables['20시'] = all_tables['20시'].astype(float).astype(int)\n",
    "all_tables['21시'] = all_tables['21시'].astype(float).astype(int)\n",
    "all_tables['22시'] = all_tables['22시'].astype(float).astype(int)\n",
    "all_tables['23시'] = all_tables['23시'].astype(float).astype(int)"
   ]
  },
  {
   "cell_type": "code",
   "execution_count": null,
   "id": "1aa40947",
   "metadata": {},
   "outputs": [],
   "source": [
    "# 한시간 단위의 측정은 너무 자세하고 다루기 까다롭기 때문에, 3시간 단위로 묶어 time1~8까지로 나누었다."
   ]
  },
  {
   "cell_type": "code",
   "execution_count": 7,
   "id": "709743ca",
   "metadata": {},
   "outputs": [],
   "source": [
    "time1 = ['0시','1시','2시']\n",
    "time2 = ['3시','4시','5시']\n",
    "time3 = ['6시','7시','8시']\n",
    "time4 = ['9시','10시','11시']\n",
    "time5 = ['12시','13시','14시']\n",
    "time6 = ['15시','16시','17시']\n",
    "time7 = ['18시','19시','20시']\n",
    "time8 = ['21시','22시','23시']\n",
    "time_total = ['0시','1시','2시', '3시','4시','5시', \n",
    "              '6시','7시','8시', '9시','10시','11시', \n",
    "             '12시','13시','14시', '15시','16시','17시',\n",
    "             '18시','19시','20시', '21시','22시','23시']"
   ]
  },
  {
   "cell_type": "code",
   "execution_count": null,
   "id": "3609eba6",
   "metadata": {},
   "outputs": [],
   "source": [
    "# 각 타임 별, 각 날짜에 따른 합계를 구한다."
   ]
  },
  {
   "cell_type": "code",
   "execution_count": 8,
   "id": "fb7ab0f1",
   "metadata": {},
   "outputs": [],
   "source": [
    "all_tables['time_1'] = all_tables[time1].sum(axis = 1)\n",
    "all_tables['time_2'] = all_tables[time2].sum(axis = 1)\n",
    "all_tables['time_3'] = all_tables[time3].sum(axis = 1)\n",
    "all_tables['time_4'] = all_tables[time4].sum(axis = 1)\n",
    "all_tables['time_5'] = all_tables[time5].sum(axis = 1)\n",
    "all_tables['time_6'] = all_tables[time6].sum(axis = 1)\n",
    "all_tables['time_7'] = all_tables[time7].sum(axis = 1)\n",
    "all_tables['time_8'] = all_tables[time8].sum(axis = 1)"
   ]
  },
  {
   "cell_type": "code",
   "execution_count": null,
   "id": "75c210e3",
   "metadata": {},
   "outputs": [],
   "source": [
    "# 각 날짜 별 총 합을 구한다."
   ]
  },
  {
   "cell_type": "code",
   "execution_count": 9,
   "id": "2a28b747",
   "metadata": {
    "scrolled": true
   },
   "outputs": [],
   "source": [
    "all_tables['total_day'] = all_tables[time_total].sum(axis = 1)"
   ]
  },
  {
   "cell_type": "markdown",
   "id": "f56c844f",
   "metadata": {},
   "source": [
    "all_tables.head()"
   ]
  },
  {
   "cell_type": "code",
   "execution_count": null,
   "id": "80016226",
   "metadata": {},
   "outputs": [],
   "source": [
    "# csv파일로 저장."
   ]
  },
  {
   "cell_type": "code",
   "execution_count": 11,
   "id": "ce0d76c3",
   "metadata": {},
   "outputs": [],
   "source": [
    "all_tables.to_csv('./CSV/2021_total.csv')"
   ]
  },
  {
   "cell_type": "code",
   "execution_count": null,
   "id": "fdcc24cc",
   "metadata": {},
   "outputs": [],
   "source": []
  }
 ],
 "metadata": {
  "kernelspec": {
   "display_name": "Python 3",
   "language": "python",
   "name": "python3"
  },
  "language_info": {
   "codemirror_mode": {
    "name": "ipython",
    "version": 3
   },
   "file_extension": ".py",
   "mimetype": "text/x-python",
   "name": "python",
   "nbconvert_exporter": "python",
   "pygments_lexer": "ipython3",
   "version": "3.7.0"
  }
 },
 "nbformat": 4,
 "nbformat_minor": 5
}
